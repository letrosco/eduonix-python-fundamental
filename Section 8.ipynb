{
 "cells": [
  {
   "cell_type": "code",
   "execution_count": 1,
   "metadata": {},
   "outputs": [],
   "source": [
    "# Section 8 - Loops"
   ]
  },
  {
   "cell_type": "code",
   "execution_count": 2,
   "metadata": {},
   "outputs": [],
   "source": [
    "list1 = [0,1,2,3,4,5,6,7,8,9,10]"
   ]
  },
  {
   "cell_type": "code",
   "execution_count": 10,
   "metadata": {},
   "outputs": [
    {
     "name": "stdout",
     "output_type": "stream",
     "text": [
      "0 apples\n",
      "1 apples\n",
      "2 apples\n",
      "3 apples\n",
      "4 apples\n",
      "5 apples\n",
      "6 apples\n",
      "7 apples\n",
      "8 apples\n",
      "9 apples\n",
      "10 apples\n"
     ]
    }
   ],
   "source": [
    "for x in list1:\n",
    "    print ('{} apples'.format(x))"
   ]
  },
  {
   "cell_type": "code",
   "execution_count": 8,
   "metadata": {},
   "outputs": [
    {
     "name": "stdout",
     "output_type": "stream",
     "text": [
      "0\n",
      "2\n",
      "4\n",
      "6\n",
      "8\n",
      "10\n"
     ]
    }
   ],
   "source": [
    "for x in list1:\n",
    "    if x%2 == 0:\n",
    "        print(x)"
   ]
  },
  {
   "cell_type": "code",
   "execution_count": 13,
   "metadata": {},
   "outputs": [
    {
     "name": "stdout",
     "output_type": "stream",
     "text": [
      "Even = 0\n",
      "Odd  = 1\n",
      "Even = 2\n",
      "Odd  = 3\n",
      "Even = 4\n",
      "Odd  = 5\n",
      "Even = 6\n",
      "Odd  = 7\n",
      "Even = 8\n",
      "Odd  = 9\n",
      "Even = 10\n"
     ]
    }
   ],
   "source": [
    "for x in list1:\n",
    "    if x%2 == 0:\n",
    "        print('Even = {}'.format(x))\n",
    "    else:\n",
    "        print('Odd  = {}'.format(x))"
   ]
  },
  {
   "cell_type": "code",
   "execution_count": 12,
   "metadata": {},
   "outputs": [
    {
     "data": {
      "text/plain": [
       "10"
      ]
     },
     "execution_count": 12,
     "metadata": {},
     "output_type": "execute_result"
    }
   ],
   "source": [
    "x # the counter stops at the last value"
   ]
  },
  {
   "cell_type": "code",
   "execution_count": 15,
   "metadata": {},
   "outputs": [
    {
     "name": "stdout",
     "output_type": "stream",
     "text": [
      "Even = 0\n",
      "Odd  = 1\n",
      "Even = 2\n",
      "Odd  = 3\n",
      "Even = 4\n",
      "Odd  = 5\n",
      "Even = 6\n",
      "Odd  = 7\n",
      "Even = 8\n",
      "Odd  = 9\n"
     ]
    }
   ],
   "source": [
    "l2 = '0123456789'\n",
    "for x in l2:\n",
    "    if int(x)%2 == 0:\n",
    "        print('Even = {}'.format(x))\n",
    "    else:\n",
    "        print('Odd  = {}'.format(x))"
   ]
  },
  {
   "cell_type": "code",
   "execution_count": 21,
   "metadata": {},
   "outputs": [
    {
     "name": "stdout",
     "output_type": "stream",
     "text": [
      "Even = 0\n",
      "Odd  = 1\n",
      "Even = 2\n",
      "Odd  = 3\n",
      "Even = 4\n",
      "Even = 6\n",
      "Odd  = 7\n",
      "Even = 8\n",
      "Odd  = 9\n",
      "Even = 10\n",
      "done\n"
     ]
    }
   ],
   "source": [
    "for x in list1:\n",
    "    if x == 5:\n",
    "        continue\n",
    "    #elif x > 8:\n",
    "        #break\n",
    "    if x%2 == 0:\n",
    "        print('Even = {}'.format(x))\n",
    "    else:\n",
    "        print('Odd  = {}'.format(x))\n",
    "else:\n",
    "    print('done')"
   ]
  },
  {
   "cell_type": "code",
   "execution_count": 22,
   "metadata": {},
   "outputs": [],
   "source": [
    "descript = ['red', 'yellow', 'green']\n",
    "fruit = ['apple','banana','grape']"
   ]
  },
  {
   "cell_type": "code",
   "execution_count": 24,
   "metadata": {},
   "outputs": [
    {
     "name": "stdout",
     "output_type": "stream",
     "text": [
      "red apple\n",
      "red banana\n",
      "red grape\n",
      "yellow apple\n",
      "yellow banana\n",
      "yellow grape\n",
      "green apple\n",
      "green banana\n",
      "green grape\n"
     ]
    }
   ],
   "source": [
    "for d in descript:\n",
    "    for f in fruit: # nested loop to pair every combination of options\n",
    "        print(d,f)"
   ]
  },
  {
   "cell_type": "code",
   "execution_count": 25,
   "metadata": {},
   "outputs": [],
   "source": [
    "# Section 8.2 While loops"
   ]
  },
  {
   "cell_type": "code",
   "execution_count": 33,
   "metadata": {},
   "outputs": [
    {
     "name": "stdout",
     "output_type": "stream",
     "text": [
      "x=0\n",
      "x=1\n",
      "x=2\n"
     ]
    }
   ],
   "source": [
    "x = 0\n",
    "while x < 3:\n",
    "    print('x={}'.format(x))\n",
    "    x += 1"
   ]
  },
  {
   "cell_type": "code",
   "execution_count": 34,
   "metadata": {},
   "outputs": [
    {
     "name": "stdout",
     "output_type": "stream",
     "text": [
      "x=1\n",
      "x=2\n",
      "x=3\n"
     ]
    }
   ],
   "source": [
    "x = 0\n",
    "while x < 3:\n",
    "    x += 1\n",
    "    print('x={}'.format(x))"
   ]
  },
  {
   "cell_type": "code",
   "execution_count": 37,
   "metadata": {},
   "outputs": [
    {
     "name": "stdout",
     "output_type": "stream",
     "text": [
      "Odd:  1\n",
      "Even: 2\n",
      "Odd:  3\n",
      "Even: 4\n",
      "Odd:  5\n",
      "Even: 6\n",
      "Odd:  7\n",
      "Even: 8\n",
      "Odd:  9\n",
      "Even: 10\n",
      "Odd:  11\n",
      "Even: 12\n",
      "Odd:  13\n",
      "Even: 14\n",
      "Odd:  15\n"
     ]
    }
   ],
   "source": [
    "x = 1\n",
    "max = 15\n",
    "while x <= max:\n",
    "    if x%2 == 0:\n",
    "        print('Even: {}'.format(x))\n",
    "    else:\n",
    "        print('Odd:  {}'.format(x))\n",
    "    x += 1\n",
    "    "
   ]
  },
  {
   "cell_type": "code",
   "execution_count": null,
   "metadata": {},
   "outputs": [],
   "source": []
  }
 ],
 "metadata": {
  "kernelspec": {
   "display_name": "Python 3",
   "language": "python",
   "name": "python3"
  },
  "language_info": {
   "codemirror_mode": {
    "name": "ipython",
    "version": 3
   },
   "file_extension": ".py",
   "mimetype": "text/x-python",
   "name": "python",
   "nbconvert_exporter": "python",
   "pygments_lexer": "ipython3",
   "version": "3.8.5"
  }
 },
 "nbformat": 4,
 "nbformat_minor": 4
}
