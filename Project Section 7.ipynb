{
 "cells": [
  {
   "cell_type": "code",
   "execution_count": 3,
   "metadata": {},
   "outputs": [
    {
     "name": "stdout",
     "output_type": "stream",
     "text": [
      "Are you hungry? (yes/no) Yup\n",
      "eat stuff!\n"
     ]
    }
   ],
   "source": [
    "hungry = input(\"Are you hungry? (yes/no) \")\n",
    "if hungry[0].lower() in ('y','t'):\n",
    "    print('eat stuff!')\n",
    "elif hungry[0].lower() in ('n','f'):\n",
    "    print('have a drink of water')\n",
    "else:\n",
    "    print('ask again later')"
   ]
  },
  {
   "cell_type": "code",
   "execution_count": null,
   "metadata": {},
   "outputs": [],
   "source": []
  }
 ],
 "metadata": {
  "kernelspec": {
   "display_name": "Python 3",
   "language": "python",
   "name": "python3"
  },
  "language_info": {
   "codemirror_mode": {
    "name": "ipython",
    "version": 3
   },
   "file_extension": ".py",
   "mimetype": "text/x-python",
   "name": "python",
   "nbconvert_exporter": "python",
   "pygments_lexer": "ipython3",
   "version": "3.8.5"
  }
 },
 "nbformat": 4,
 "nbformat_minor": 4
}
