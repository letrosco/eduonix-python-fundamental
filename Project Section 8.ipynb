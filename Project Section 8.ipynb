{
 "cells": [
  {
   "cell_type": "code",
   "execution_count": 1,
   "metadata": {},
   "outputs": [],
   "source": [
    "# project description does not make a lot of sense. What does the for loop count from and to?\n",
    "# I have changed it into a while loop and made it a guessing game."
   ]
  },
  {
   "cell_type": "code",
   "execution_count": 12,
   "metadata": {},
   "outputs": [
    {
     "name": "stdout",
     "output_type": "stream",
     "text": [
      "Guess a number between 1 and 100. Leave blank to end. 50\n",
      "50 is too low. Try again.\n",
      "Guess a number between 1 and 100. Leave blank to end. 75\n",
      "75 is too high. Try again.\n",
      "Guess a number between 1 and 100. Leave blank to end. 62\n",
      "62 is too high. Try again.\n",
      "Guess a number between 1 and 100. Leave blank to end. 58\n",
      "58 is too high. Try again.\n",
      "Guess a number between 1 and 100. Leave blank to end. 55\n",
      "55 is too low. Try again.\n",
      "Guess a number between 1 and 100. Leave blank to end. 56\n",
      "56 is too low. Try again.\n",
      "Guess a number between 1 and 100. Leave blank to end. 57\n",
      "You got it in 7 guesses! Yay! The number was 57.\n"
     ]
    }
   ],
   "source": [
    "target = 57\n",
    "guess = 'starting'\n",
    "count = 0\n",
    "while guess != '':\n",
    "    guess = input('Guess a number between 1 and 100. Leave blank to end. ')\n",
    "    count += 1\n",
    "    if guess == '':\n",
    "        print('You didn\\'t guess the number. Too bad. Try again later.')\n",
    "        break\n",
    "    guessN = int(guess)\n",
    "    if guessN < target:\n",
    "        print('{} is too low. Try again.'.format(guessN))\n",
    "    elif guessN > target:\n",
    "        print('{} is too high. Try again.'.format(guessN))\n",
    "    else:\n",
    "        print('You got it in {} guesses! Yay! The number was {}.'.format(count, target))\n",
    "        break"
   ]
  },
  {
   "cell_type": "code",
   "execution_count": null,
   "metadata": {},
   "outputs": [],
   "source": []
  }
 ],
 "metadata": {
  "kernelspec": {
   "display_name": "Python 3",
   "language": "python",
   "name": "python3"
  },
  "language_info": {
   "codemirror_mode": {
    "name": "ipython",
    "version": 3
   },
   "file_extension": ".py",
   "mimetype": "text/x-python",
   "name": "python",
   "nbconvert_exporter": "python",
   "pygments_lexer": "ipython3",
   "version": "3.8.5"
  }
 },
 "nbformat": 4,
 "nbformat_minor": 4
}
