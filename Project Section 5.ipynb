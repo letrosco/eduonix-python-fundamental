{
 "cells": [
  {
   "cell_type": "code",
   "execution_count": 1,
   "metadata": {},
   "outputs": [
    {
     "name": "stdout",
     "output_type": "stream",
     "text": [
      "The brown bear ran through the woods quickly.\n"
     ]
    }
   ],
   "source": [
    "# Output: The brown bear ran through the woods quickly.\n",
    "s_colour, s_animal, s_action, s_location, s_adjective = 'brown', 'bear', 'ran', 'woods', 'quickly'\n",
    "with open('Section 5 exercise.txt', mode='w') as file3:\n",
    "    file3.write('The {col} {ani} {act} through the {loc} {adj}.'.format(col=s_colour, ani=s_animal, act=s_action, loc=s_location, adj=s_adjective))\n",
    "with open('Section 5 exercise.txt') as file3:\n",
    "    print(file3.read())"
   ]
  },
  {
   "cell_type": "code",
   "execution_count": null,
   "metadata": {},
   "outputs": [],
   "source": []
  }
 ],
 "metadata": {
  "kernelspec": {
   "display_name": "Python 3",
   "language": "python",
   "name": "python3"
  },
  "language_info": {
   "codemirror_mode": {
    "name": "ipython",
    "version": 3
   },
   "file_extension": ".py",
   "mimetype": "text/x-python",
   "name": "python",
   "nbconvert_exporter": "python",
   "pygments_lexer": "ipython3",
   "version": "3.8.5"
  }
 },
 "nbformat": 4,
 "nbformat_minor": 4
}
